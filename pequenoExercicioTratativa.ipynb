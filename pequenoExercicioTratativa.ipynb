{
  "nbformat": 4,
  "nbformat_minor": 0,
  "metadata": {
    "colab": {
      "provenance": [],
      "authorship_tag": "ABX9TyPerS91AtWO4tW6FWqGxHHN",
      "include_colab_link": true
    },
    "kernelspec": {
      "name": "python3",
      "display_name": "Python 3"
    },
    "language_info": {
      "name": "python"
    }
  },
  "cells": [
    {
      "cell_type": "markdown",
      "metadata": {
        "id": "view-in-github",
        "colab_type": "text"
      },
      "source": [
        "<a href=\"https://colab.research.google.com/github/YuriCatundaGondim/dados_Python/blob/main/pequenoExercicioTratativa.ipynb\" target=\"_parent\"><img src=\"https://colab.research.google.com/assets/colab-badge.svg\" alt=\"Open In Colab\"/></a>"
      ]
    },
    {
      "cell_type": "markdown",
      "source": [
        "crie programa que receba:\n",
        "Nome\n",
        "Idade\n",
        "Peso\n",
        "\n",
        "Crie todas as tratativas que forem necessárias;\n",
        "Nome - str\n",
        "Idade - int\n",
        "Peso - float"
      ],
      "metadata": {
        "id": "FovsEU8Vvye3"
      }
    },
    {
      "cell_type": "code",
      "source": [
        "nome = (input('Digite seu nome: '))\n",
        "try:\n",
        "  idade = int(input('Sua idade? '))\n",
        "except ValueError:\n",
        "  idade = int(input('Erro de digitação: Idade apenas números inteiros. Sua idade? '))\n",
        "try:\n",
        "  peso= float(input('Digite seu peso: '))\n",
        "except:\n",
        "  print('Seu peso precisa usar \".\" para separar os decimais.')\n",
        "  peso= float(input('Seu peso precisa usar \".\" para separar os decimais. Digite seu peso: '))\n",
        "  \n",
        "print(f'Nome: {nome}\\nIdade: {idade}\\nPeso: {peso}\\n')"
      ],
      "metadata": {
        "colab": {
          "base_uri": "https://localhost:8080/"
        },
        "id": "DoKNRXoxwJdX",
        "outputId": "36455e30-fc85-492b-97c2-a2091ef14981"
      },
      "execution_count": 34,
      "outputs": [
        {
          "output_type": "stream",
          "name": "stdout",
          "text": [
            "Digite seu nome: yuui\n",
            "Sua idade? 3.6\n",
            "Erro de digitação: Idade apenas números inteiros. Sua idade? 37\n",
            "Digite seu peso: 23,6\n",
            "Seu peso precisa usar \".\" para separar os decimais.\n",
            "Seu peso precisa usar \".\" para separar os decimais. Digite seu peso: 123\n",
            "Nome: yuui\n",
            "Idade: 37\n",
            "Peso: 123.0\n",
            "\n"
          ]
        }
      ]
    }
  ]
}