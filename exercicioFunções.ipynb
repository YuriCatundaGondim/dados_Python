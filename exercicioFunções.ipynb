{
  "nbformat": 4,
  "nbformat_minor": 0,
  "metadata": {
    "colab": {
      "provenance": [],
      "authorship_tag": "ABX9TyOoc0XOBnLjftkFQswOr0Wb",
      "include_colab_link": true
    },
    "kernelspec": {
      "name": "python3",
      "display_name": "Python 3"
    },
    "language_info": {
      "name": "python"
    }
  },
  "cells": [
    {
      "cell_type": "markdown",
      "metadata": {
        "id": "view-in-github",
        "colab_type": "text"
      },
      "source": [
        "<a href=\"https://colab.research.google.com/github/YuriCatundaGondim/YuriCatundaGondim/blob/main/exercicioFun%C3%A7%C3%B5es.ipynb\" target=\"_parent\"><img src=\"https://colab.research.google.com/assets/colab-badge.svg\" alt=\"Open In Colab\"/></a>"
      ]
    },
    {
      "cell_type": "markdown",
      "source": [
        "Utilizando funções, crie um programa em que o usuário escolha entre a tabuada de adição e multiplicação, receba um número inteiro e imprima a tabuada tala como: 5 X 1 = 5\n",
        "\n",
        "5 X 2 = 10\n",
        "\n",
        "5 X 3 = 15\n",
        "\n",
        "5 X 4 = 20\n",
        "\n",
        "5 X 5 = 25\n",
        "\n",
        "5 X 6 = 30\n",
        "\n",
        "5 X 7 = 35\n",
        "\n",
        "5 X 8 = 40\n",
        "\n",
        "5 X 9 = 45\n",
        "\n",
        "5 X 10 = 50"
      ],
      "metadata": {
        "id": "TuTN76-QZ3_5"
      }
    },
    {
      "cell_type": "code",
      "source": [
        "def taboada_mult():\n",
        "  mult = 1\n",
        "  numero = int(input('\\nQual número deseja multiplicar? '))\n",
        "  while mult <= 10:\n",
        "      resultado = numero*mult\n",
        "      print(f' {numero} x {mult} = {resultado}')\n",
        "      mult = mult+1\n",
        "      \n",
        "\n",
        "def taboada_soma():\n",
        "  cont = 1\n",
        "  numero = int(input('\\nQual número deseja somar? '))\n",
        "  while cont <= 10:\n",
        "      resultado = numero+cont\n",
        "      print(f' {numero} + {cont} = {resultado}')\n",
        "      cont = cont+1\n",
        "      \n",
        "\n",
        "escolha = int(input('''Olá, escolha entre:\\n\n",
        "1 - Taboada de adição\\n\n",
        "2 - Taboada de multiplicação\\n\n",
        "'''))\n",
        "\n",
        "if escolha == 1:\n",
        "  print(taboada_soma())\n",
        "\n",
        "else:\n",
        "  print(taboada_mult())\n"
      ],
      "metadata": {
        "colab": {
          "base_uri": "https://localhost:8080/"
        },
        "id": "io83tJ5ncv0M",
        "outputId": "2d0d2c70-613f-4631-bdc4-6f310f6c62f9"
      },
      "execution_count": 49,
      "outputs": [
        {
          "output_type": "stream",
          "name": "stdout",
          "text": [
            "Olá, escolha entre:\n",
            "\n",
            "1 - Taboada de adição\n",
            "\n",
            "2 - Taboada de multiplicação\n",
            "\n",
            "1\n",
            "\n",
            "Qual número deseja somar? 2\n",
            " 2 + 1 = 3\n",
            " 2 + 2 = 4\n",
            " 2 + 3 = 5\n",
            " 2 + 4 = 6\n",
            " 2 + 5 = 7\n",
            " 2 + 6 = 8\n",
            " 2 + 7 = 9\n",
            " 2 + 8 = 10\n",
            " 2 + 9 = 11\n",
            " 2 + 10 = 12\n",
            "None\n"
          ]
        }
      ]
    },
    {
      "cell_type": "markdown",
      "source": [
        "::Usando funções anômimas, faça um programa, que receba três argumentos, e que forneça a soma desses três argumentos."
      ],
      "metadata": {
        "id": "0qSLnJOpjBzZ"
      }
    },
    {
      "cell_type": "code",
      "source": [
        "soma = lambda num1, num2, num3: num1+num2+num3\n",
        "num1, num2, num3 = float(input('Digite o primeiro número: ')), float(input('Digite o segundo número: ')), float(input('Digite o terceiro número: '))\n",
        "soma(num1, num2, num3)"
      ],
      "metadata": {
        "colab": {
          "base_uri": "https://localhost:8080/"
        },
        "id": "Vj9V-s1OjC9o",
        "outputId": "5288f658-4103-4335-860f-7fe790b1a64d"
      },
      "execution_count": 56,
      "outputs": [
        {
          "name": "stdout",
          "output_type": "stream",
          "text": [
            "Digite o primeiro número: 1\n",
            "Digite o segundo número: 1\n",
            "Digite o terceiro número: 1\n"
          ]
        },
        {
          "output_type": "execute_result",
          "data": {
            "text/plain": [
              "3.0"
            ]
          },
          "metadata": {},
          "execution_count": 56
        }
      ]
    }
  ]
}