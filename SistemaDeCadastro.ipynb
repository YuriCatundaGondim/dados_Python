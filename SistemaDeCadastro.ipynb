{
  "nbformat": 4,
  "nbformat_minor": 0,
  "metadata": {
    "colab": {
      "provenance": [],
      "authorship_tag": "ABX9TyMj2owgWX/tNJGsR7Kezwq7",
      "include_colab_link": true
    },
    "kernelspec": {
      "name": "python3",
      "display_name": "Python 3"
    },
    "language_info": {
      "name": "python"
    }
  },
  "cells": [
    {
      "cell_type": "markdown",
      "metadata": {
        "id": "view-in-github",
        "colab_type": "text"
      },
      "source": [
        "<a href=\"https://colab.research.google.com/github/YuriCatundaGondim/YuriCatundaGondim/blob/main/SistemaDeCadastro.ipynb\" target=\"_parent\"><img src=\"https://colab.research.google.com/assets/colab-badge.svg\" alt=\"Open In Colab\"/></a>"
      ]
    },
    {
      "cell_type": "code",
      "source": [
        "menu_principal = '''Olá, seja bem vindo(a) ao nosso sistema de cadastro!\n",
        "\n",
        "Menu Principal:\n",
        "\n",
        "[1] - Inserir usuário\n",
        "[2] - Excluir usuário\n",
        "[3] - Atualizar usuário\n",
        "[4] - Informações de um usuário\n",
        "[5] - Informações de todos os usuários\n",
        "[6] - Sair'''\n",
        "\n",
        "print (menu_principal)\n",
        "print()\n",
        "opcao = int(input('Escolha uma opção: '))\n",
        "\n",
        "id_usuario += 1\n",
        "usuarios = [[1, 'YURI', 7194652513, 'rua a', True],\n",
        "            [2, 'MARIA', 4546527846, 'rua b', True],\n",
        "            [3, 'JOÃO', 3279864561, 'rua c', True],\n",
        "            [4, 'AMANDA', 4198765432, 'rua d', True],\n",
        "            [5, 'CARLOS', 7465479856, 'rua e', True]]\n",
        "\n",
        "#inserir usuário\n",
        "if opcao == 1:\n",
        "  print()\n",
        "  id_usuario = len(usuarios) +1\n",
        "  nome = input('Digite o nome: ')\n",
        "  nome = nome.upper()\n",
        "  telefone = int(input('Digite o telefone com DDD: '))\n",
        "  endereco = input('Digite o endereço: ')\n",
        "  status = True\n",
        "  \n",
        "usuario = [id_usuario, nome, telefone, endereco, status]\n",
        "usuarios.append(usuario)\n",
        "\n",
        "#excluir usuário\n",
        "if opcao == 2:\n",
        "  print()\n",
        "  id_excluir = int(input('Insira o ID que deseja excluir: '))\n",
        "  while id_excluir > len(usuarios):\n",
        "    id_excluir = int(input(\"ID não encontrado, digite novamente: \"))\n",
        "  for id_excluir in range(len(usuarios)):\n",
        "    usuarios[id_excluir -1][4] = False\n",
        "\n",
        "#Atualizar usuário\n",
        "if opcao == 3:\n",
        "  print()\n",
        "  id_atualizar = int(input('Insira o ID que deseja atualizar: '))\n",
        "  while id_atualizar > len(usuarios):\n",
        "    id_atualizar = int(input(\"ID não encontrado, digite novamente: \"))\n",
        "  \n",
        "  if id_atualizar in range(len(usuarios)):\n",
        "    \n",
        "    menu_atualizar = '''O que deseja alterar?\n",
        "\n",
        "    [1] - Nome\n",
        "    [2] - Telefone\n",
        "    [3] - Endereço'''\n",
        "    print()\n",
        "    print(menu_atualizar)\n",
        "    opcao_atualizar = int(input('Insira uma opção: '))\n",
        "  \n",
        "  if opcao_atualizar == 1:\n",
        "      novo_nome = input(\"1 \\n Insira o Nome: \")\n",
        "      novo_nome = novo_nome.upper()\n",
        "  for id_atualizar in range(len(usuarios)):\n",
        "    usuarios[id_atualizar -1][1] = novo_nome\n",
        "  \n",
        "  if opcao_atualizar == 2:\n",
        "    novo_telefone = input(\"2 \\n Insira o telefone: \")\n",
        "  for id_atualizar in range(len(usuarios)):\n",
        "    usuarios[id_atualizar -1][2] = novo_telefone\n",
        "\n",
        "  if opcao_atualizar == 3:\n",
        "      novo_endereco = input(\"3 \\n Insira o endereço: \")\n",
        "  for id_atualizar in range(len(usuarios)):\n",
        "    usuarios[id_atualizar -1][3] = novo_endereco\n",
        "\n",
        "#Exibir usuário\n",
        "if opcao == 4:\n",
        "  print()\n",
        "  id_exibir = int(input('Insira o ID que deseja visualizar: '))\n",
        "  while id_exibir > len(usuarios):\n",
        "    id_exibir = int(input(\"ID não encontrado, digite novamente: \"))\n",
        "  \n",
        "  if id_exibir in range(len(usuarios)):\n",
        "    print(usuarios[id_exibir -1])\n",
        "\n",
        "#Exibir todos os usuários\n",
        "if opcao == 5:\n",
        "  print()\n",
        "  print(usuarios)\n",
        "\n",
        "#Saída do sistema\n",
        "if opcao == 6:\n",
        "  print(input('Encerrando o sistema'))"
      ],
      "metadata": {
        "colab": {
          "base_uri": "https://localhost:8080/"
        },
        "id": "Hz-bYWj1ccw-",
        "outputId": "b2f3acd3-64fd-4f34-e6a3-6df38c00ec10"
      },
      "execution_count": 108,
      "outputs": [
        {
          "output_type": "stream",
          "name": "stdout",
          "text": [
            "Olá, seja bem vindo(a) ao nosso sistema de cadastro!\n",
            "\n",
            "Menu Principal:\n",
            "\n",
            "[1] - Inserir usuário\n",
            "[2] - Excluir usuário\n",
            "[3] - Atualizar usuário\n",
            "[4] - Informações de um usuário\n",
            "[5] - Informações de todos os usuários\n",
            "[6] - Sair\n",
            "\n",
            "Escolha uma opção: 5\n",
            "\n",
            "[[1, 'YURI', 7194652513, 'rua a', True], [2, 'MARIA', 4546527846, 'rua b', True], [3, 'JOÃO', 3279864561, 'rua c', True], [4, 'AMANDA', 4198765432, 'rua d', True], [5, 'CARLOS', 7465479856, 'rua e', True], [31, 0, 8595462548, 'rua f', True]]\n"
          ]
        }
      ]
    }
  ]
}